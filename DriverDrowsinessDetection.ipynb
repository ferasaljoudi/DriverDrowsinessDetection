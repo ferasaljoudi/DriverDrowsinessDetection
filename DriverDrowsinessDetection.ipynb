{
  "cells": [
    {
      "cell_type": "markdown",
      "metadata": {
        "id": "eiLId1asEuHW"
      },
      "source": [
        "# Environment Setup:"
      ]
    },
    {
      "cell_type": "code",
      "execution_count": null,
      "metadata": {
        "colab": {
          "base_uri": "https://localhost:8080/"
        },
        "id": "czg9_IrdyyiJ",
        "outputId": "92e1f4bc-7202-4ff0-ded7-5a8d63def9dd"
      },
      "outputs": [],
      "source": [
        "from google.colab import drive\n",
        "drive.mount('/content/drive', force_remount = True)\n",
        "import numpy as np\n",
        "import pandas as pd\n",
        "import os\n",
        "os.environ['KAGGLE_CONFIG_DIR'] = '/content'\n",
        "import seaborn as sns\n",
        "\n",
        "import matplotlib.pyplot as plt\n",
        "import tensorflow as tf\n",
        "from tensorflow.keras import layers\n",
        "from sklearn.ensemble import RandomForestClassifier\n",
        "from sklearn.metrics import accuracy_score\n",
        "from sklearn.neighbors import KNeighborsClassifier\n",
        "from sklearn.tree import DecisionTreeClassifier\n",
        "from tensorflow.keras.models import load_model\n",
        "from tensorflow.keras.preprocessing import image\n",
        "from tensorflow.keras.models import Model, Sequential\n",
        "from tensorflow.keras.applications.vgg16 import VGG16\n",
        "from tensorflow.keras.layers import Input, Dropout, Dense, Flatten\n",
        "from sklearn.metrics import confusion_matrix, classification_report"
      ]
    },
    {
      "cell_type": "markdown",
      "metadata": {
        "id": "PydK_51277Zt"
      },
      "source": [
        "# Using Kaggle API to get the dataset:"
      ]
    },
    {
      "cell_type": "code",
      "execution_count": null,
      "metadata": {
        "id": "UTZdogvH45w0"
      },
      "outputs": [],
      "source": [
        "! pip install -q kaggle\n",
        "! mkdir ~/.kaggle\n",
        "\n",
        "! cp kaggle.json ~/.kaggle/\n",
        "! chmod 600 ~/.kaggle/kaggle.json\n",
        "\n",
        "! kaggle datasets download serenaraju/yawn-eye-dataset-new\n",
        "\n",
        "! unzip yawn-eye-dataset-new.zip"
      ]
    },
    {
      "cell_type": "markdown",
      "metadata": {
        "id": "t4d-kfxb8L69"
      },
      "source": [
        "# Looking at the data we have:"
      ]
    },
    {
      "cell_type": "code",
      "execution_count": null,
      "metadata": {
        "colab": {
          "base_uri": "https://localhost:8080/"
        },
        "id": "6Ygr3MjlqLN7",
        "outputId": "768dddc4-8f14-48c5-ee9c-dcf2550489a4"
      },
      "outputs": [
        {
          "name": "stdout",
          "output_type": "stream",
          "text": [
            "Found 2467 files belonging to 4 classes.\n",
            "Found 433 files belonging to 4 classes.\n"
          ]
        }
      ],
      "source": [
        "batchSize = 32\n",
        "imageHeight = 256\n",
        "imageWidth = 256\n",
        "\n",
        "train_ds = tf.keras.preprocessing.image_dataset_from_directory(\n",
        "    '/content/dataset_new/train',\n",
        "    seed = 123,\n",
        "    image_size=(imageHeight, imageWidth),\n",
        "    batch_size = batchSize)\n",
        "test_ds = tf.keras.preprocessing.image_dataset_from_directory(\n",
        "    '/content/dataset_new/test',\n",
        "    seed = 123,\n",
        "    image_size=(imageHeight, imageWidth),\n",
        "    batch_size = batchSize)"
      ]
    },
    {
      "cell_type": "code",
      "execution_count": null,
      "metadata": {
        "id": "fC4LiYwk19Kh"
      },
      "outputs": [],
      "source": [
        "class_names = train_ds.class_names\n",
        "\n",
        "AUTOTUNE = tf.data.experimental.AUTOTUNE\n",
        "train_ds = train_ds.cache().prefetch(buffer_size=AUTOTUNE)\n",
        "test_ds = test_ds.cache().prefetch(buffer_size=AUTOTUNE)\n",
        "\n",
        "def preprocess_dataset(dataset):\n",
        "    flat_images = []\n",
        "    labels = []\n",
        "\n",
        "    for images, labels_batch in dataset:\n",
        "        for image in images.numpy():\n",
        "            flat_images.append(image.flatten())\n",
        "\n",
        "        labels.extend(labels_batch.numpy())\n",
        "\n",
        "    flat_images = np.array(flat_images)\n",
        "    labels = np.array(labels)\n",
        "\n",
        "    return flat_images, labels\n",
        "\n",
        "X_train, y_train = preprocess_dataset(train_ds)\n",
        "X_test, y_test = preprocess_dataset(test_ds)"
      ]
    },
    {
      "cell_type": "markdown",
      "metadata": {
        "id": "VJGmXON21w6E"
      },
      "source": [
        "# Random Forest:"
      ]
    },
    {
      "cell_type": "code",
      "execution_count": null,
      "metadata": {
        "colab": {
          "base_uri": "https://localhost:8080/"
        },
        "id": "5A8N1j5v6uum",
        "outputId": "5e41114a-842a-43d5-eb82-ec573b69eb72"
      },
      "outputs": [
        {
          "name": "stdout",
          "output_type": "stream",
          "text": [
            "Accuracy using Random Forest: 89.76%\n"
          ]
        }
      ],
      "source": [
        "clf = RandomForestClassifier(n_estimators=100, random_state=42)\n",
        "clf.fit(X_train, y_train)\n",
        "\n",
        "y_pred = clf.predict(X_test)\n",
        "\n",
        "accuracy_clf = accuracy_score(y_test, y_pred)\n",
        "print(f\"Accuracy using Random Forest: {accuracy_clf * 100:.2f}%\")"
      ]
    },
    {
      "cell_type": "markdown",
      "metadata": {
        "id": "GmxePDTm7C8V"
      },
      "source": [
        "# KNN (K-Nearest Neighbor):"
      ]
    },
    {
      "cell_type": "code",
      "execution_count": null,
      "metadata": {
        "colab": {
          "base_uri": "https://localhost:8080/"
        },
        "id": "I7vw7mds8gLu",
        "outputId": "97f78cd7-bd4b-45f3-e856-28f06bc907a0"
      },
      "outputs": [
        {
          "name": "stdout",
          "output_type": "stream",
          "text": [
            "Accuracy using K-Nearest Neighbor: 82.22%\n"
          ]
        }
      ],
      "source": [
        "knn = KNeighborsClassifier(n_neighbors=5)\n",
        "knn.fit(X_train, y_train)\n",
        "\n",
        "y_pred_knn = knn.predict(X_test)\n",
        "\n",
        "accuracy_knn = accuracy_score(y_test, y_pred_knn)\n",
        "print(f\"Accuracy using K-Nearest Neighbor: {accuracy_knn * 100:.2f}%\")"
      ]
    },
    {
      "cell_type": "markdown",
      "metadata": {
        "id": "7KMNZjoGGaVM"
      },
      "source": [
        "# Decision Tree:"
      ]
    },
    {
      "cell_type": "code",
      "execution_count": null,
      "metadata": {
        "colab": {
          "base_uri": "https://localhost:8080/"
        },
        "id": "dJYll2k_Owgq",
        "outputId": "7bfc14e6-26c2-49df-a537-2337de923109"
      },
      "outputs": [
        {
          "name": "stdout",
          "output_type": "stream",
          "text": [
            "Accuracy using Decision Tree: 85.91%\n"
          ]
        }
      ],
      "source": [
        "dt_clf = DecisionTreeClassifier(random_state=42)\n",
        "\n",
        "dt_clf.fit(X_train, y_train)\n",
        "\n",
        "y_pred_dt = dt_clf.predict(X_test)\n",
        "\n",
        "accuracy_dt = accuracy_score(y_test, y_pred_dt)\n",
        "print(f\"Accuracy using Decision Tree: {accuracy_dt * 100:.2f}%\")"
      ]
    },
    {
      "cell_type": "markdown",
      "metadata": {
        "id": "By5muFi8PTGC"
      },
      "source": [
        "# CNN (Convolutional Neural Network):"
      ]
    },
    {
      "cell_type": "code",
      "execution_count": null,
      "metadata": {
        "colab": {
          "base_uri": "https://localhost:8080/"
        },
        "id": "d5BRvh15UdLD",
        "outputId": "4b24d94c-548b-463c-8121-ab6de1dc2011"
      },
      "outputs": [],
      "source": [
        "model = VGG16(include_top=False, input_shape=(imageHeight, imageWidth, 3), weights='imagenet')\n",
        "for layer in model.layers:\n",
        "  layer.trainable = False\n",
        "\n",
        "model = Sequential([\n",
        "    model,\n",
        "    Flatten(),\n",
        "    Dense(256, activation='relu'),\n",
        "    Dense(len(class_names), activation='softmax')\n",
        "])"
      ]
    },
    {
      "cell_type": "code",
      "execution_count": null,
      "metadata": {
        "colab": {
          "base_uri": "https://localhost:8080/"
        },
        "id": "G6fXwCq6ed2a",
        "outputId": "b511b7f9-eaec-4507-ef54-f55262bf2e31"
      },
      "outputs": [
        {
          "name": "stdout",
          "output_type": "stream",
          "text": [
            "Train Loss: 0.149, Train Accuracy: 99.55%\n",
            "Test Loss: 2.851, Test Accuracy: 93.76%\n"
          ]
        }
      ],
      "source": [
        "model.compile(optimizer=tf.keras.optimizers.Adam(learning_rate=0.001),\n",
        "              loss='sparse_categorical_crossentropy',\n",
        "              metrics=['accuracy'])\n",
        "history = model.fit(train_ds, validation_data=test_ds, epochs=10)\n",
        "train_loss, train_accuracy = history.history['loss'][-1], history.history['accuracy'][-1]\n",
        "test_loss, test_accuracy = history.history['val_loss'][-1], history.history['val_accuracy'][-1]\n",
        "print(f'Train Loss: {train_loss :.3f}, Train Accuracy: {train_accuracy * 100:.2f}%')\n",
        "print(f'Test Loss: {test_loss :.3f}, Test Accuracy: {test_accuracy * 100:.2f}%')"
      ]
    },
    {
      "cell_type": "code",
      "execution_count": null,
      "metadata": {
        "colab": {
          "base_uri": "https://localhost:8080/",
          "height": 831
        },
        "id": "V0bvQo-O_pl5",
        "outputId": "d8a24fd8-8e61-4d2d-c026-ec6c34aa2c53"
      },
      "outputs": [],
      "source": [
        "plt.figure(figsize=(12, 10))\n",
        "for images, labels in test_ds.take(2):\n",
        "    predictions = model.predict(images)\n",
        "    predlabel = []\n",
        "    for mem in predictions:\n",
        "        predlabel.append(class_names[np.argmax(mem)])\n",
        "    for i in range(20):\n",
        "        ax = plt.subplot(5, 4, i + 1)\n",
        "        plt.imshow(images[i].numpy().astype(\"uint8\"))\n",
        "        plt.title('Predicted label:'+ predlabel[i])\n",
        "        plt.axis('off')\n",
        "        plt.grid(True)"
      ]
    },
    {
      "cell_type": "code",
      "execution_count": null,
      "metadata": {
        "colab": {
          "base_uri": "https://localhost:8080/"
        },
        "id": "_4MtlRiawf2d",
        "outputId": "aaef23f1-39a4-4986-a412-d66cba8c7922"
      },
      "outputs": [],
      "source": [
        "model_path = '/content/drive/MyDrive/ColabModel/model.h5'\n",
        "model.save(model_path)"
      ]
    },
    {
      "cell_type": "code",
      "execution_count": null,
      "metadata": {
        "id": "LvpxqeO7wjv2"
      },
      "outputs": [],
      "source": [
        "model_path = '/content/drive/MyDrive/ColabModel/model.h5'\n",
        "loaded_model = load_model(model_path)"
      ]
    },
    {
      "cell_type": "markdown",
      "metadata": {
        "id": "zE4VPDzzBo-w"
      },
      "source": [
        "# Comparison of Model Accuracies:"
      ]
    },
    {
      "cell_type": "code",
      "execution_count": null,
      "metadata": {
        "colab": {
          "base_uri": "https://localhost:8080/",
          "height": 564
        },
        "id": "iC6s-_uYBypJ",
        "outputId": "4256ed93-c7f7-4d8e-cea4-1d9ef854a7e0"
      },
      "outputs": [],
      "source": [
        "accuracies = {\n",
        "    'Random Forest': 89.76,\n",
        "    'KNN': 82.22,\n",
        "    'Decision Tree': 85.91,\n",
        "    'CNN': 93.76\n",
        "}\n",
        "\n",
        "models = list(accuracies.keys())\n",
        "accuracies = list(accuracies.values())\n",
        "\n",
        "plt.figure(figsize=(10, 6))\n",
        "bars = plt.bar(models, accuracies, color=['blue', 'green', 'red', 'cyan'])\n",
        "plt.xlabel('Model')\n",
        "plt.ylabel('Accuracy (%)')\n",
        "plt.title('Comparison of Model Accuracies')\n",
        "plt.ylim([50, 100])\n",
        "\n",
        "for bar in bars:\n",
        "  yval = bar.get_height()\n",
        "  plt.text(bar.get_x() + bar.get_width() / 2.0, yval, f\"{yval:.2f}%\", ha='center', va='bottom', fontweight='bold')\n",
        "\n",
        "plt.grid(True)\n",
        "plt.show()"
      ]
    },
    {
      "cell_type": "markdown",
      "metadata": {
        "id": "zMkEWBTE__Bi"
      },
      "source": [
        "# Testing CNN Model Using External Images:"
      ]
    },
    {
      "cell_type": "code",
      "execution_count": null,
      "metadata": {
        "id": "FsaXhAahACIO"
      },
      "outputs": [],
      "source": [
        "!unzip -q /content/TestModel.zip -d /content/TestingModel/"
      ]
    },
    {
      "cell_type": "code",
      "execution_count": null,
      "metadata": {
        "id": "cpm1DgmpdF-k"
      },
      "outputs": [],
      "source": [
        "def preprocess_image(image_path):\n",
        "  img = image.load_img(image_path, target_size=(256, 256))\n",
        "  img_array = image.img_to_array(img)\n",
        "  img_array_expanded = np.expand_dims(img_array, axis=0)\n",
        "  return img_array_expanded\n",
        "\n",
        "def predict_image(model, image_path, class_names):\n",
        "  processed_image = preprocess_image(image_path)\n",
        "  predictions = model.predict(processed_image)\n",
        "  predicted_class = class_names[np.argmax(predictions)]\n",
        "  predicted_probability = np.max(predictions)\n",
        "  return predicted_class, predicted_probability\n",
        "\n",
        "directory = '/content/TestingModel'\n",
        "\n",
        "for filename in os.listdir(directory):\n",
        "    if filename.lower().endswith(('.png', '.jpg')):\n",
        "        file_path = os.path.join(directory, filename)\n",
        "        predicted_class, predicted_probability = predict_image(model, file_path, class_names)\n",
        "        print(f\"The file name is: {filename}, the predicted class is: {predicted_class}\")\n",
        "        print()"
      ]
    },
    {
      "cell_type": "markdown",
      "metadata": {
        "id": "QMz9Zhn6tp5j"
      },
      "source": [
        "# Confusion Matrix:"
      ]
    },
    {
      "cell_type": "code",
      "execution_count": null,
      "metadata": {
        "colab": {
          "base_uri": "https://localhost:8080/",
          "height": 961
        },
        "id": "O18_U0cJttbN",
        "outputId": "74a424af-949e-40a5-808e-a088d6f3cbd3"
      },
      "outputs": [
        {
          "name": "stdout",
          "output_type": "stream",
          "text": [
            "1/1 [==============================] - 0s 31ms/step\n",
            "1/1 [==============================] - 0s 32ms/step\n",
            "1/1 [==============================] - 0s 29ms/step\n",
            "1/1 [==============================] - 0s 31ms/step\n",
            "1/1 [==============================] - 0s 30ms/step\n",
            "1/1 [==============================] - 0s 35ms/step\n",
            "1/1 [==============================] - 0s 30ms/step\n",
            "1/1 [==============================] - 0s 37ms/step\n",
            "1/1 [==============================] - 0s 38ms/step\n",
            "1/1 [==============================] - 0s 41ms/step\n",
            "1/1 [==============================] - 0s 35ms/step\n",
            "1/1 [==============================] - 0s 40ms/step\n",
            "1/1 [==============================] - 0s 41ms/step\n",
            "1/1 [==============================] - 0s 33ms/step\n"
          ]
        },
        {
          "data": {
            "image/png": "[encoded data removed]",
            "text/plain": [
              "<Figure size 1000x800 with 2 Axes>"
            ]
          },
          "metadata": {},
          "output_type": "display_data"
        }
      ],
      "source": [
        "def get_true_predictions(model, dataset):\n",
        "    true_labels = []\n",
        "    predictions = []\n",
        "    for images, labels in dataset:\n",
        "        preds = model.predict(images)\n",
        "        preds = np.argmax(preds, axis=1)\n",
        "        true_labels.extend(labels.numpy())\n",
        "        predictions.extend(preds)\n",
        "    return np.array(true_labels), np.array(predictions)\n",
        "\n",
        "true_labels, predicted_labels = get_true_predictions(model, test_ds)\n",
        "cm = confusion_matrix(true_labels, predicted_labels)\n",
        "\n",
        "plt.figure(figsize=(10, 8))\n",
        "sns.heatmap(cm, annot=True, fmt='d', cmap='Blues', xticklabels=class_names, yticklabels=class_names)\n",
        "plt.xlabel('Predicted Labels')\n",
        "plt.ylabel('True Labels')\n",
        "plt.title('CNN Confusion Matrix')\n",
        "plt.show()"
      ]
    }
  ],
  "metadata": {
    "accelerator": "GPU",
    "colab": {
      "collapsed_sections": [
        "PydK_51277Zt",
        "t4d-kfxb8L69",
        "VJGmXON21w6E",
        "GmxePDTm7C8V",
        "7KMNZjoGGaVM",
        "QMz9Zhn6tp5j"
      ],
      "gpuType": "T4",
      "provenance": []
    },
    "kernelspec": {
      "display_name": "Python 3",
      "name": "python3"
    },
    "language_info": {
      "name": "python"
    }
  },
  "nbformat": 4,
  "nbformat_minor": 0
}
